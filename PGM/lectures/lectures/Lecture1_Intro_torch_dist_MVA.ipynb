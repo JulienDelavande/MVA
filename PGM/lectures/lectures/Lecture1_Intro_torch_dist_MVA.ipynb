{
  "cells": [
    {
      "cell_type": "markdown",
      "id": "a4599728-5a77-4c01-a6c6-746dce4c1b13",
      "metadata": {
        "id": "a4599728-5a77-4c01-a6c6-746dce4c1b13"
      },
      "source": [
        "# MVA: introduction à Torch distributions"
      ]
    },
    {
      "cell_type": "code",
      "execution_count": null,
      "id": "d186a636-a9c4-40b1-84b8-60538e80ad82",
      "metadata": {
        "id": "d186a636-a9c4-40b1-84b8-60538e80ad82"
      },
      "outputs": [],
      "source": [
        "import numpy as np\n",
        "import matplotlib.pyplot as plt\n",
        "from sklearn import datasets\n",
        "import seaborn as sns\n",
        "import torch\n",
        "import torch.distributions as td"
      ]
    },
    {
      "cell_type": "markdown",
      "id": "3d31b5fe-881c-4d3b-80f2-1335ad10f077",
      "metadata": {
        "id": "3d31b5fe-881c-4d3b-80f2-1335ad10f077"
      },
      "source": [
        "Torch distributions allows you to define **probability distributions** as Python objects that you can use for example to\n",
        "\n",
        "\n",
        "*   sample,\n",
        "*   compute densities.\n"
      ]
    },
    {
      "cell_type": "markdown",
      "id": "be757872-293d-441c-866d-f8edc8dd99ad",
      "metadata": {
        "id": "be757872-293d-441c-866d-f8edc8dd99ad"
      },
      "source": [
        "# 1. Univariate Gaussian"
      ]
    },
    {
      "cell_type": "markdown",
      "id": "b5dccbec-47e0-4854-8a05-a4c8d17f4c14",
      "metadata": {
        "id": "b5dccbec-47e0-4854-8a05-a4c8d17f4c14"
      },
      "source": [
        "The most basic distribution is the Gaussian, with density $$p(x | \\mu, \\sigma) = \\frac{1}{\\sqrt{2 \\pi \\sigma^2}} e^{-(x-\\mu)^2/(2 \\sigma^2)}$$."
      ]
    },
    {
      "cell_type": "code",
      "execution_count": null,
      "id": "91e75ec2-aaa0-406b-bd55-4776c30ef9bb",
      "metadata": {
        "id": "91e75ec2-aaa0-406b-bd55-4776c30ef9bb"
      },
      "outputs": [],
      "source": [
        "mu = 1\n",
        "sigma = 1\n",
        "\n",
        "Gaussian = td.Normal(mu, sigma)"
      ]
    },
    {
      "cell_type": "code",
      "execution_count": null,
      "id": "9fd1e211-946b-48b1-af13-3c9e4ac65d96",
      "metadata": {
        "colab": {
          "base_uri": "https://localhost:8080/"
        },
        "id": "9fd1e211-946b-48b1-af13-3c9e4ac65d96",
        "outputId": "2215df4d-fff5-4e00-e710-df2e0eacdf02"
      },
      "outputs": [
        {
          "output_type": "execute_result",
          "data": {
            "text/plain": [
              "tensor(0.7257)"
            ]
          },
          "metadata": {},
          "execution_count": 3
        }
      ],
      "source": [
        "Gaussian.sample() # returns 1 sample"
      ]
    },
    {
      "cell_type": "code",
      "execution_count": null,
      "id": "956d0cfe-e5e6-41d4-bdda-25d204416e7d",
      "metadata": {
        "colab": {
          "base_uri": "https://localhost:8080/"
        },
        "id": "956d0cfe-e5e6-41d4-bdda-25d204416e7d",
        "outputId": "f672c1b7-3ee0-434c-8ca1-e1ae81ee47c1"
      },
      "outputs": [
        {
          "output_type": "execute_result",
          "data": {
            "text/plain": [
              "tensor([[0.5392, 1.1358, 1.0182],\n",
              "        [0.5023, 0.0049, 2.5360]])"
            ]
          },
          "metadata": {},
          "execution_count": 4
        }
      ],
      "source": [
        "Gaussian.sample((2,3)) # returns a 2x3 matrix of iid samples"
      ]
    },
    {
      "cell_type": "code",
      "execution_count": null,
      "id": "03f15954-6b69-4c0b-b884-48ca296534d7",
      "metadata": {
        "colab": {
          "base_uri": "https://localhost:8080/"
        },
        "id": "03f15954-6b69-4c0b-b884-48ca296534d7",
        "outputId": "687ee881-6a34-4c71-ca7f-a4f3652dcfb3"
      },
      "outputs": [
        {
          "output_type": "execute_result",
          "data": {
            "text/plain": [
              "array([[-0.8313755 ,  2.4714754 ,  1.4708211 ],\n",
              "       [-0.0464226 , -0.35561907,  0.9399803 ]], dtype=float32)"
            ]
          },
          "metadata": {},
          "execution_count": 5
        }
      ],
      "source": [
        "Gaussian.sample((2,3)).numpy() # returns a 2x3 matrix of iid samples as a numpy array"
      ]
    },
    {
      "cell_type": "code",
      "execution_count": null,
      "id": "f619d94a-715f-4a5d-8195-7ecac66e91f1",
      "metadata": {
        "colab": {
          "base_uri": "https://localhost:8080/"
        },
        "id": "f619d94a-715f-4a5d-8195-7ecac66e91f1",
        "outputId": "3beeee7c-3b84-4da9-a680-a366c5306148"
      },
      "outputs": [
        {
          "output_type": "execute_result",
          "data": {
            "text/plain": [
              "tensor(1.)"
            ]
          },
          "metadata": {},
          "execution_count": 6
        }
      ],
      "source": [
        "Gaussian.mean"
      ]
    },
    {
      "cell_type": "code",
      "execution_count": null,
      "id": "a4d4a3b1-ff51-4c31-bd23-766a8a99b25c",
      "metadata": {
        "colab": {
          "base_uri": "https://localhost:8080/"
        },
        "id": "a4d4a3b1-ff51-4c31-bd23-766a8a99b25c",
        "outputId": "5d738629-e348-4df5-eaf3-4ba70b59d108"
      },
      "outputs": [
        {
          "output_type": "execute_result",
          "data": {
            "text/plain": [
              "tensor(1.)"
            ]
          },
          "metadata": {},
          "execution_count": 7
        }
      ],
      "source": [
        "Gaussian.mode"
      ]
    },
    {
      "cell_type": "code",
      "execution_count": null,
      "id": "7489c287-999f-4423-b37a-a04262ac04dc",
      "metadata": {
        "colab": {
          "base_uri": "https://localhost:8080/"
        },
        "id": "7489c287-999f-4423-b37a-a04262ac04dc",
        "outputId": "71a3d59b-7b74-413c-fbdf-d0266e4672f3"
      },
      "outputs": [
        {
          "output_type": "execute_result",
          "data": {
            "text/plain": [
              "tensor(1.)"
            ]
          },
          "metadata": {},
          "execution_count": 8
        }
      ],
      "source": [
        "Gaussian.variance"
      ]
    },
    {
      "cell_type": "code",
      "execution_count": null,
      "id": "3ac4a397-4d67-4f4a-9721-82e1dd0b313d",
      "metadata": {
        "colab": {
          "base_uri": "https://localhost:8080/"
        },
        "id": "3ac4a397-4d67-4f4a-9721-82e1dd0b313d",
        "outputId": "fd2deed3-b27f-4176-9449-dc9632ef5fc5"
      },
      "outputs": [
        {
          "output_type": "execute_result",
          "data": {
            "text/plain": [
              "tensor(-2.9189)"
            ]
          },
          "metadata": {},
          "execution_count": 9
        }
      ],
      "source": [
        "x = torch.tensor(3)\n",
        "\n",
        "Gaussian.log_prob(x) # compute the log  of density of x (useful to compute log-likelihoods!)"
      ]
    },
    {
      "cell_type": "code",
      "execution_count": null,
      "id": "5b29e326-ea5c-4f38-8dda-277f01004144",
      "metadata": {
        "colab": {
          "base_uri": "https://localhost:8080/",
          "height": 452
        },
        "id": "5b29e326-ea5c-4f38-8dda-277f01004144",
        "outputId": "83981ca1-3f28-4451-aee8-b93bb885f64f"
      },
      "outputs": [
        {
          "output_type": "display_data",
          "data": {
            "text/plain": [
              "<Figure size 640x480 with 1 Axes>"
            ],
            "image/png": "[encoded data removed]"
          },
          "metadata": {}
        }
      ],
      "source": [
        "points = np.linspace(-4,4,100)\n",
        "\n",
        "plt.plot(points, np.exp(Gaussian.log_prob(torch.tensor(points)).numpy()))\n",
        "plt.title(\"Gaussian density\")\n",
        "plt.show()"
      ]
    },
    {
      "cell_type": "markdown",
      "id": "78b42e1c-4d28-4f16-b5f9-70e58b2e5218",
      "metadata": {
        "id": "78b42e1c-4d28-4f16-b5f9-70e58b2e5218"
      },
      "source": [
        "# 2. More exotic univariate distributions"
      ]
    },
    {
      "cell_type": "markdown",
      "id": "05b26d68-5c5d-487a-a60a-5527679340b8",
      "metadata": {
        "id": "05b26d68-5c5d-487a-a60a-5527679340b8"
      },
      "source": [
        "We can also use discrete distributions, for instance the Poisson distribution, which is a distribution over integers parametrised by a rate $\\lambda >0$. For any $x \\in \\mathbb{N}$, the density is\n",
        "$$p(x) = \\lambda^x e^{-\\lambda}/x! $$"
      ]
    },
    {
      "cell_type": "code",
      "execution_count": null,
      "id": "5fbd91a2-a7d5-4837-ae0b-7ea22976969c",
      "metadata": {
        "id": "5fbd91a2-a7d5-4837-ae0b-7ea22976969c"
      },
      "outputs": [],
      "source": [
        "Poisson = td.Poisson(rate=5.6)"
      ]
    },
    {
      "cell_type": "code",
      "execution_count": null,
      "id": "88c302d9-7695-4506-b214-394f947cfeaf",
      "metadata": {
        "colab": {
          "base_uri": "https://localhost:8080/",
          "height": 452
        },
        "id": "88c302d9-7695-4506-b214-394f947cfeaf",
        "outputId": "19980a1c-182a-4821-a5c7-ea8225d421c4"
      },
      "outputs": [
        {
          "output_type": "display_data",
          "data": {
            "text/plain": [
              "<Figure size 640x480 with 1 Axes>"
            ],
            "image/png": "[encoded data removed]"
          },
          "metadata": {}
        }
      ],
      "source": [
        "points = np.arange(0,15)\n",
        "plt.plot(points, np.exp(Poisson.log_prob(torch.tensor(points)).numpy()), 'o')\n",
        "plt.axvline(x = Poisson.mode, label = 'mode', color = \"green\")\n",
        "plt.axvline(x = Poisson.mean, label = 'mean', color = \"red\")\n",
        "# As we can see, when lambda is not an integer, the mean and the mode differ\n",
        "plt.title(\"Poisson density\")\n",
        "plt.legend()\n",
        "plt.show()"
      ]
    },
    {
      "cell_type": "markdown",
      "id": "db3015c6-a2fe-4fe1-9a9b-92d646cf666c",
      "metadata": {
        "id": "db3015c6-a2fe-4fe1-9a9b-92d646cf666c"
      },
      "source": [
        "The von Mises distribution is a distribution over angles, used for instance to model dihedral angles in molecular biology. Its parameters are a mean $\\mu \\in [0, 2 \\pi)$ and a concentration $\\kappa > 0$. For any angle $x \\in (0,2 \\pi)$, the density is $$p(x| \\mu, \\kappa) \\propto \\exp( \\kappa \\cos(x - \\mu)).$$."
      ]
    },
    {
      "cell_type": "code",
      "execution_count": null,
      "id": "64318f36-a5c3-4a4e-901e-6f48728233dc",
      "metadata": {
        "id": "64318f36-a5c3-4a4e-901e-6f48728233dc"
      },
      "outputs": [],
      "source": [
        "vM = td.VonMises(loc = np.pi/2, concentration = 1)"
      ]
    },
    {
      "cell_type": "code",
      "execution_count": null,
      "id": "8c44f472-44d0-4019-ba82-de54ba14ee5a",
      "metadata": {
        "colab": {
          "base_uri": "https://localhost:8080/",
          "height": 452
        },
        "id": "8c44f472-44d0-4019-ba82-de54ba14ee5a",
        "outputId": "b1aa6b68-99ce-4c71-925a-62267313c67e"
      },
      "outputs": [
        {
          "output_type": "display_data",
          "data": {
            "text/plain": [
              "<Figure size 640x480 with 1 Axes>"
            ],
            "image/png": "[encoded data removed]"
          },
          "metadata": {}
        }
      ],
      "source": [
        "points = np.linspace(0,2* np.pi,100)\n",
        "plt.plot(points, np.exp(vM.log_prob(torch.tensor(points)).numpy()))\n",
        "plt.title(\"Von Mises log-density\")\n",
        "plt.show()"
      ]
    },
    {
      "cell_type": "markdown",
      "id": "d8e2fa62-70ff-4a17-83c7-bbf4d41d45c0",
      "metadata": {
        "id": "d8e2fa62-70ff-4a17-83c7-bbf4d41d45c0"
      },
      "source": [
        "# 3. Creating several univariate distributions\n"
      ]
    },
    {
      "cell_type": "markdown",
      "id": "9d1ccb5c-f302-4ddb-b9ab-61f83db0f50c",
      "metadata": {
        "id": "9d1ccb5c-f302-4ddb-b9ab-61f83db0f50c"
      },
      "source": [
        "Often, in machine learning, we have to deal with a lot of similar distributions. For example, if we want to learn a regression model, we want to define $n$ conditional distributions $p(y|\\mathbf{x}_1),...,p(y|\\mathbf{x}_n)$ with a similar structure.\n",
        "\n",
        "Feeding a bunch of parameters to the function that creates a distribution allows you to create a bunch of distributions at the same time."
      ]
    },
    {
      "cell_type": "code",
      "execution_count": null,
      "id": "2b49d248-e1ee-4d38-a238-6d2b1f5116df",
      "metadata": {
        "colab": {
          "base_uri": "https://localhost:8080/"
        },
        "id": "2b49d248-e1ee-4d38-a238-6d2b1f5116df",
        "outputId": "ac69a975-cd47-46d2-c1fc-c5c1361e73ed"
      },
      "outputs": [
        {
          "output_type": "execute_result",
          "data": {
            "text/plain": [
              "tensor([0., 0., 0.])"
            ]
          },
          "metadata": {},
          "execution_count": 15
        }
      ],
      "source": [
        "multiple_Bernoullis = td.Bernoulli(probs=torch.tensor((.3, .5, .7)))\n",
        "multiple_Bernoullis.sample()"
      ]
    },
    {
      "cell_type": "markdown",
      "id": "99d9c04a-d6ee-43b4-89a6-5d10afb81363",
      "metadata": {
        "id": "99d9c04a-d6ee-43b4-89a6-5d10afb81363"
      },
      "source": [
        "If we compute $5$ samples, then we get a $5$ times $3$ matrix:"
      ]
    },
    {
      "cell_type": "code",
      "execution_count": null,
      "id": "7cc71336-9077-4a11-8791-cb1d23b4bd94",
      "metadata": {
        "colab": {
          "base_uri": "https://localhost:8080/"
        },
        "id": "7cc71336-9077-4a11-8791-cb1d23b4bd94",
        "outputId": "92fa6cd6-d5a1-4b5e-ae5a-b2ea934163f8"
      },
      "outputs": [
        {
          "output_type": "execute_result",
          "data": {
            "text/plain": [
              "tensor([[[0., 1., 1.]],\n",
              "\n",
              "        [[1., 0., 1.]],\n",
              "\n",
              "        [[0., 0., 0.]],\n",
              "\n",
              "        [[0., 0., 1.]],\n",
              "\n",
              "        [[1., 0., 1.]]])"
            ]
          },
          "metadata": {},
          "execution_count": 16
        }
      ],
      "source": [
        "multiple_Bernoullis.sample((5,1))"
      ]
    },
    {
      "cell_type": "markdown",
      "id": "5d4201ac-d6d2-43a4-a978-810d39e52944",
      "metadata": {
        "id": "5d4201ac-d6d2-43a4-a978-810d39e52944"
      },
      "source": [
        "Note that `multiple_Bernoullis` is not a multivariate distributions, it's a collection of $3$ univariate distributions! In particular, if we use `log_prob`, we get 3 values, one for each distribution."
      ]
    },
    {
      "cell_type": "code",
      "execution_count": null,
      "id": "724ffdd2-9b90-4514-8233-1ba90635e427",
      "metadata": {
        "colab": {
          "base_uri": "https://localhost:8080/"
        },
        "id": "724ffdd2-9b90-4514-8233-1ba90635e427",
        "outputId": "e0354c53-e73d-4fa4-fe4a-8ef57e8e31a8"
      },
      "outputs": [
        {
          "output_type": "execute_result",
          "data": {
            "text/plain": [
              "tensor([-0.3567, -0.6931, -0.3567])"
            ]
          },
          "metadata": {},
          "execution_count": 17
        }
      ],
      "source": [
        "multiple_Bernoullis.log_prob(torch.tensor((0.,0.,1.)))"
      ]
    },
    {
      "cell_type": "markdown",
      "id": "94a0feb3-abe4-4581-be09-a8e1b16d6d93",
      "metadata": {
        "id": "94a0feb3-abe4-4581-be09-a8e1b16d6d93"
      },
      "source": [
        "# 4. Creating fully-factorised distributions\n"
      ]
    },
    {
      "cell_type": "markdown",
      "id": "8bb7613d-e54f-4ff0-8707-02e44d4836dc",
      "metadata": {
        "id": "8bb7613d-e54f-4ff0-8707-02e44d4836dc"
      },
      "source": [
        "As we saw in the lecture, a simple way of creating multivariate distributions is to just multiply univariate distributions. Let's say we have $K$ univariate distributions $p(x_1),...,p(x_K)$. A way to define a distribution over $K$-dimensional vector $\\mathbf{x} = (x_1,...,x_K)$ is to consider the product\n",
        "$$p ( \\mathbf{x}) = \\prod_{k=1}^K  p(x_k).$$\n",
        "\n",
        "This means that the coordinates of $\\mathbf{x}$ will be **independent**. In graphical modelling terms, this corresponds to a \"trivial\" graph with no edges.\n",
        "\n",
        "Using Torch distributions, it's rather easy to define fully factorised distributions, via the function `td.Independent`. The idea is to first define a bunch of distributions (like we saw before), and then combine them."
      ]
    },
    {
      "cell_type": "code",
      "execution_count": null,
      "id": "71dfc95b-86d0-4f0f-a4ca-c901c1f8b884",
      "metadata": {
        "colab": {
          "base_uri": "https://localhost:8080/"
        },
        "id": "71dfc95b-86d0-4f0f-a4ca-c901c1f8b884",
        "outputId": "d81d39c6-6668-4660-c79d-a9e74e5cc195"
      },
      "outputs": [
        {
          "output_type": "execute_result",
          "data": {
            "text/plain": [
              "Independent(Bernoulli(probs: torch.Size([3]), logits: torch.Size([3])), 1)"
            ]
          },
          "metadata": {},
          "execution_count": 18
        }
      ],
      "source": [
        "prod_multiple_Bernoullis = td.Independent(multiple_Bernoullis, reinterpreted_batch_ndims=1)\n",
        "prod_multiple_Bernoullis"
      ]
    },
    {
      "cell_type": "code",
      "execution_count": null,
      "id": "b8a64b35-b6e9-4112-b9c5-fabddf7a42dd",
      "metadata": {
        "colab": {
          "base_uri": "https://localhost:8080/"
        },
        "id": "b8a64b35-b6e9-4112-b9c5-fabddf7a42dd",
        "outputId": "6b318f18-a228-423b-c392-dd3a83cfaa8a"
      },
      "outputs": [
        {
          "output_type": "execute_result",
          "data": {
            "text/plain": [
              "tensor([1., 1., 1.])"
            ]
          },
          "metadata": {},
          "execution_count": 19
        }
      ],
      "source": [
        "prod_multiple_Bernoullis.sample()"
      ]
    },
    {
      "cell_type": "code",
      "execution_count": null,
      "id": "54f2ac01-57b8-474f-bf26-296b309772cd",
      "metadata": {
        "colab": {
          "base_uri": "https://localhost:8080/"
        },
        "id": "54f2ac01-57b8-474f-bf26-296b309772cd",
        "outputId": "64130c03-ffc4-4f6b-80ff-13f12ecdd6d8"
      },
      "outputs": [
        {
          "output_type": "execute_result",
          "data": {
            "text/plain": [
              "tensor(-1.4065)"
            ]
          },
          "metadata": {},
          "execution_count": 20
        }
      ],
      "source": [
        "prod_multiple_Bernoullis.log_prob(torch.tensor((0.,0.,1.)))"
      ]
    },
    {
      "cell_type": "markdown",
      "id": "00893d0e-18a8-4941-a916-123e63d9fc95",
      "metadata": {
        "id": "00893d0e-18a8-4941-a916-123e63d9fc95"
      },
      "source": [
        "To differentiate between collections (aka batches) of distributions and multivariate distributions, one can look at their `event_shape`, that corresponds to the dimensionality of the random variable, and `batch_shape`, that corresponds to the size of the batch."
      ]
    },
    {
      "cell_type": "code",
      "execution_count": null,
      "id": "b4e05e4d-6b76-48fd-9a53-97d297f21d5a",
      "metadata": {
        "id": "b4e05e4d-6b76-48fd-9a53-97d297f21d5a",
        "outputId": "9ac3a3dd-ec4b-4379-8fa8-2f766946b388",
        "colab": {
          "base_uri": "https://localhost:8080/"
        }
      },
      "outputs": [
        {
          "output_type": "execute_result",
          "data": {
            "text/plain": [
              "(torch.Size([3]), torch.Size([]))"
            ]
          },
          "metadata": {},
          "execution_count": 21
        }
      ],
      "source": [
        "multiple_Bernoullis.batch_shape, multiple_Bernoullis.event_shape"
      ]
    },
    {
      "cell_type": "code",
      "execution_count": null,
      "id": "7c40121e-f56c-412d-9ba5-ad56ab844700",
      "metadata": {
        "id": "7c40121e-f56c-412d-9ba5-ad56ab844700",
        "outputId": "ee089fc3-b356-4205-94be-8cc880ee9e74",
        "colab": {
          "base_uri": "https://localhost:8080/"
        }
      },
      "outputs": [
        {
          "output_type": "execute_result",
          "data": {
            "text/plain": [
              "(torch.Size([]), torch.Size([3]))"
            ]
          },
          "metadata": {},
          "execution_count": 22
        }
      ],
      "source": [
        "prod_multiple_Bernoullis.batch_shape, prod_multiple_Bernoullis.event_shape"
      ]
    },
    {
      "cell_type": "markdown",
      "source": [
        "# A basic generative model on binary MNIST"
      ],
      "metadata": {
        "id": "mt_ZXDDo7opB"
      },
      "id": "mt_ZXDDo7opB"
    },
    {
      "cell_type": "markdown",
      "source": [
        "We will use Larochelle's static binarisation, that can be loaded using the following cell:"
      ],
      "metadata": {
        "id": "B6p6GwXx8IPd"
      },
      "id": "B6p6GwXx8IPd"
    },
    {
      "cell_type": "code",
      "execution_count": null,
      "id": "095e09bd-bc70-471c-aa22-0e70fcc03248",
      "metadata": {
        "id": "095e09bd-bc70-471c-aa22-0e70fcc03248"
      },
      "outputs": [],
      "source": [
        "xtrain = np.loadtxt('http://www.cs.toronto.edu/~larocheh/public/datasets/binarized_mnist/binarized_mnist_train.amat',dtype=np.float32).reshape(-1,28, 28,order='C')\n",
        "xvalid = np.loadtxt('http://www.cs.toronto.edu/~larocheh/public/datasets/binarized_mnist/binarized_mnist_valid.amat',dtype=np.float32).reshape(-1,28, 28,order='C')\n",
        "xtest = np.loadtxt('http://www.cs.toronto.edu/~larocheh/public/datasets/binarized_mnist/binarized_mnist_test.amat',dtype=np.float32).reshape(-1,28, 28,order='C')\n",
        "\n",
        "p = 784\n",
        "n = xtrain.shape[0]\n",
        "ntest = xtest.shape[0]"
      ]
    },
    {
      "cell_type": "code",
      "execution_count": null,
      "id": "41874b3a-af02-4532-a7a4-2bc6166e21c5",
      "metadata": {
        "id": "41874b3a-af02-4532-a7a4-2bc6166e21c5",
        "colab": {
          "base_uri": "https://localhost:8080/",
          "height": 406
        },
        "outputId": "8f9d7ae2-a851-4983-9e08-77d6221ab17c"
      },
      "outputs": [
        {
          "output_type": "display_data",
          "data": {
            "text/plain": [
              "<Figure size 640x480 with 1 Axes>"
            ],
            "image/png": "[encoded data removed]"
          },
          "metadata": {}
        }
      ],
      "source": [
        "plt.imshow(xtrain[0:4, :].reshape((-1,28)), cmap='gray')\n",
        "plt.axis('off')\n",
        "plt.show()\n"
      ]
    },
    {
      "cell_type": "markdown",
      "source": [
        "We build here a **super simple** generative model for the data set. Specifically, the model is simply a product of Bernoulli distributions:\n",
        "$$p (\\textbf{x}) = \\prod_{j_1 = 1}^{28}  \\prod_{j_2 = 1}^{28} \\mathcal{B}(x_{j_1j_2}|\\pi_{j_1j_2}).$$"
      ],
      "metadata": {
        "id": "qqBmlxbB8XAL"
      },
      "id": "qqBmlxbB8XAL"
    },
    {
      "cell_type": "markdown",
      "source": [
        "As we saw, the MLE of the parameter is available in closed form, and can be computed in a single line of code."
      ],
      "metadata": {
        "id": "u-gO7QgJ8nk6"
      },
      "id": "u-gO7QgJ8nk6"
    },
    {
      "cell_type": "code",
      "execution_count": null,
      "id": "53178ae3-85a9-46a5-9aa6-8e81ad7c168a",
      "metadata": {
        "id": "53178ae3-85a9-46a5-9aa6-8e81ad7c168a"
      },
      "outputs": [],
      "source": [
        "pis_hat = torch.tensor(xtrain.mean(0) + 10**(-10)) # I just add 10^-10 to avoid zeros and numerical problems"
      ]
    },
    {
      "cell_type": "code",
      "source": [
        "prod_of_bernoullis =  td.Independent(td.Bernoulli(probs = pis_hat), reinterpreted_batch_ndims = 2)"
      ],
      "metadata": {
        "id": "VJVI70CI8b5b"
      },
      "id": "VJVI70CI8b5b",
      "execution_count": null,
      "outputs": []
    },
    {
      "cell_type": "code",
      "source": [
        "sample_pofbern = np.reshape(prod_of_bernoullis.sample((4,1)),(-1,28))\n",
        "plt.imshow(sample_pofbern, cmap='gray')\n",
        "plt.axis('off')\n",
        "plt.show()"
      ],
      "metadata": {
        "colab": {
          "base_uri": "https://localhost:8080/",
          "height": 406
        },
        "id": "lwnRPOAs8fCn",
        "outputId": "05553c4f-1688-49c2-8fa8-3aa971192ec4"
      },
      "id": "lwnRPOAs8fCn",
      "execution_count": null,
      "outputs": [
        {
          "output_type": "display_data",
          "data": {
            "text/plain": [
              "<Figure size 640x480 with 1 Axes>"
            ],
            "image/png": "[encoded data removed]"
          },
          "metadata": {}
        }
      ]
    },
    {
      "cell_type": "code",
      "source": [],
      "metadata": {
        "id": "RibcMzml8lI8"
      },
      "id": "RibcMzml8lI8",
      "execution_count": null,
      "outputs": []
    }
  ],
  "metadata": {
    "kernelspec": {
      "display_name": "Python 3 (ipykernel)",
      "language": "python",
      "name": "python3"
    },
    "language_info": {
      "codemirror_mode": {
        "name": "ipython",
        "version": 3
      },
      "file_extension": ".py",
      "mimetype": "text/x-python",
      "name": "python",
      "nbconvert_exporter": "python",
      "pygments_lexer": "ipython3",
      "version": "3.9.19"
    },
    "colab": {
      "provenance": []
    }
  },
  "nbformat": 4,
  "nbformat_minor": 5
}