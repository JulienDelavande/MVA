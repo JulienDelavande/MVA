{
  "cells": [
    {
      "cell_type": "markdown",
      "metadata": {
        "id": "MuVouapRmjEW"
      },
      "source": [
        "<center><h2>ALTeGraD 2024<br>Lab Session 1: HAN</h2><h3>Hierarchical Attention Network Using GRU</h3> 8 / 10 / 2024<br> Dr. Guokan Shang, Yang Zhang<br><br>\n",
        "\n",
        "\n",
        "<b>Student name:</b> [Delavande Julien]\n",
        "\n",
        "\n",
        "</center>\n",
        "In this lab, you will get familiar with recurrent neural networks (RNNs), self-attention, and the HAN architecture <b>(Yang et al. 2016)</b> using PyTorch. In this architecture, sentence embeddings are first individually produced, and a document embedding is then computed from the sentence embeddings.<br>\n",
        "<b>The deadline for this lab is October 15, 2024 11:59 PM.</b> More details about the submission and the architecture for this lab can be found in the handout PDF.\n"
      ]
    },
    {
      "cell_type": "markdown",
      "metadata": {
        "id": "xJaSJaIP1xRy"
      },
      "source": [
        "### = = = = =  Attention Layer = = = = =\n",
        "In thi section, you will fill the gaps in the code to implement the self-attention layer. This layer will be used later to define the HAN architecture. The basic idea behind attention is that rather than considering the last annotation $h_T$ as a summary of the entire sequence, which is prone to information loss, the annotations at <i>all</i> time steps are used.\n",
        "The self-attention mechanism computes a weighted sum of the annotations, where the weights are determined by trainable parameters. Refer to <b>section 2.2</b> in the handout for the theoretical part, it will be needed to finish the first task.\n",
        "\n",
        "#### <b>Task 1:</b>"
      ]
    },
    {
      "cell_type": "code",
      "execution_count": 3,
      "metadata": {
        "id": "yoM7H0KQncpF"
      },
      "outputs": [],
      "source": [
        "import torch\n",
        "from torch import nn\n",
        "from torch.utils.data import DataLoader\n",
        "\n",
        "class AttentionWithContext(nn.Module):\n",
        "    \"\"\"\n",
        "    Follows the work of Yang et al. [https://www.cs.cmu.edu/~diyiy/docs/naacl16.pdf]\n",
        "    \"Hierarchical Attention Networks for Document Classification\"\n",
        "    by using a context vector to assist the attention\n",
        "    # Input shape\n",
        "        3D tensor with shape: `(samples, steps, features)`.\n",
        "    # Output shape\n",
        "        2D tensor with shape: `(samples, features)`.\n",
        "    \"\"\"\n",
        "    \n",
        "    def __init__(self, input_shape, return_coefficients=False, bias=True):\n",
        "        super(AttentionWithContext, self).__init__()\n",
        "        self.return_coefficients = return_coefficients\n",
        "\n",
        "        self.W = nn.Linear(input_shape, input_shape, bias=bias)\n",
        "        self.tanh = nn.Tanh()\n",
        "        self.u = nn.Linear(input_shape, 1, bias=False)\n",
        "\n",
        "        self.init_weights()\n",
        "\n",
        "    def init_weights(self):\n",
        "        initrange = 0.1\n",
        "        self.W.weight.data.uniform_(-initrange, initrange)\n",
        "        self.W.bias.data.uniform_(-initrange, initrange)\n",
        "        self.u.weight.data.uniform_(-initrange, initrange)\n",
        "    \n",
        "    def generate_square_subsequent_mask(self, sz):\n",
        "        # do not pass the mask to the next layers\n",
        "        mask = (torch.triu(torch.ones(sz, sz)) == 1).transpose(0, 1)\n",
        "        mask = (\n",
        "            mask.float()\n",
        "            .masked_fill(mask == 0, float(\"-inf\"))\n",
        "            .masked_fill(mask == 1, float(0.0))\n",
        "        )\n",
        "        return mask\n",
        "    \n",
        "    def forward(self, x, mask=None):\n",
        "        uit = self.W(x) # fill the gap # compute uit = W . x  where x represents ht\n",
        "        uit = self.tanh(uit)\n",
        "        ait = self.u(uit)\n",
        "        a = torch.exp(ait)\n",
        "        \n",
        "        # apply mask after the exp. will be re-normalized next\n",
        "        if mask is not None:\n",
        "            a = a*mask.double()\n",
        "        \n",
        "        # in some cases especially in the early stages of training the sum may be almost zero\n",
        "        # and this results in NaN's. A workaround is to add a very small positive number ε to the sum.\n",
        "        eps = 1e-9\n",
        "        a = a / (torch.sum(a, axis=1, keepdim=True) + eps)\n",
        "        weighted_input = torch.sum(a * x, axis=1) ### fill the gap ### # compute the attentional vector\n",
        "        if self.return_coefficients:\n",
        "            return weighted_input, a ### use torch.sum to compute s\n",
        "        else:\n",
        "            return weighted_input ### attentional vector only ###"
      ]
    },
    {
      "cell_type": "markdown",
      "metadata": {
        "id": "DgTP6GrOHlss"
      },
      "source": [
        "### = = = = = Parameters = = = = =\n",
        "In this section, we define the parameters to use in our training. Such as data path, the embedding dimention <b>d</b>, the GRU layer dimensionality <b>n_units</b>, etc..<br>\n",
        "The parameter <b>device</b> is used to train the model on GPU if it is available. for this purpose, if you are using Google Colab, switch your runtime to a GPU runtime to train the model with a maximum speed.<br>\n",
        "<b>Bonus question:</b> What is the purpose of the parameter <i>my_patience</i>?"
      ]
    },
    {
      "cell_type": "code",
      "execution_count": 4,
      "metadata": {
        "id": "czsVjxgYnczb"
      },
      "outputs": [],
      "source": [
        "import sys\n",
        "import json\n",
        "import operator\n",
        "import numpy as np\n",
        "\n",
        "path_root = ''\n",
        "path_to_data = path_root + 'data/'\n",
        "\n",
        "d = 30 # dimensionality of word embeddings\n",
        "n_units = 50 # RNN layer dimensionality\n",
        "drop_rate = 0.5 # dropout\n",
        "mfw_idx = 2 # index of the most frequent words in the dictionary \n",
        "            # 0 is for the special padding token\n",
        "            # 1 is for the special out-of-vocabulary token\n",
        "\n",
        "padding_idx = 0\n",
        "oov_idx = 1\n",
        "batch_size = 64\n",
        "nb_epochs = 15\n",
        "my_patience = 2 # for early stopping strategy\n",
        "device = torch.device(\"cuda\" if torch.cuda.is_available() else \"cpu\")"
      ]
    },
    {
      "cell_type": "markdown",
      "metadata": {
        "id": "K8Vot_C7Hlst"
      },
      "source": [
        "### = = = = = Data Loading = = = = =\n",
        "In this section we will use first <b>wget</b> to download the data the we will load it using numpy in the first cell. While in the second cell, we will use these data to define our Pytorch data loader. Note that the data is already preprocessed, tokenized and padded.<br><br>\n",
        "<b>Note: if you are running your notebook on Windows or on MacOS, <i>wget</i> will probably not work if you did not install it manually. In this case, use the provided link to download the data and change the <i>path_to_data</i> in the <i>Parameters</i> section accordingly. Otherwise, you will face no problem on Ubuntu and Google Colab.</b>\n",
        "\n",
        "#### <b>Task 2.1:</b>"
      ]
    },
    {
      "cell_type": "code",
      "execution_count": 5,
      "metadata": {
        "id": "UD6hRh0OHlst"
      },
      "outputs": [],
      "source": [
        "import urllib.request\n",
        "url = \"https://onedrive.live.com/download?cid=AE69638675180117&resid=AE69638675180117%2199289&authkey=AHgxt3xmgG0Fu5A\"\n",
        "output_file = \"data.zip\"\n",
        "urllib.request.urlretrieve(url, output_file)\n",
        "\n",
        "!unzip data.zip\n",
        "\n",
        "my_docs_array_train = np.load(path_to_data + 'docs_train.npy')\n",
        "my_docs_array_test = np.load(path_to_data + 'docs_test.npy')\n",
        "\n",
        "my_labels_array_train = np.load(path_to_data + 'labels_train.npy')\n",
        "my_labels_array_test = np.load(path_to_data + 'labels_test.npy')\n",
        "\n",
        "# load dictionary of word indexes (sorted by decreasing frequency across the corpus)\n",
        "with open(path_to_data + 'word_to_index.json', 'r') as my_file:\n",
        "    word_to_index = json.load(my_file)\n",
        "\n",
        "# invert mapping\n",
        "### fill the gap (use a dict comprehension) ###\n",
        "index_to_word =  {v: k for k, v in word_to_index.items()}\n",
        "input_size = my_docs_array_train.shape"
      ]
    },
    {
      "cell_type": "code",
      "execution_count": 6,
      "metadata": {
        "id": "DpsCvmaiJfZc"
      },
      "outputs": [],
      "source": [
        "import numpy\n",
        "import torch\n",
        "from torch.utils.data import DataLoader, Dataset\n",
        "\n",
        "\n",
        "class Dataset_(Dataset):\n",
        "    def __init__(self, x, y):\n",
        "        self.documents = x\n",
        "        self.labels = y\n",
        "\n",
        "    def __len__(self):\n",
        "        return len(self.documents)\n",
        "\n",
        "    def __getitem__(self, index):\n",
        "        document = self.documents[index]\n",
        "        label = self.labels[index] \n",
        "        sample = {\n",
        "            \"document\": torch.tensor(document),\n",
        "            \"label\": torch.tensor(label),\n",
        "            }\n",
        "        return sample\n",
        "\n",
        "\n",
        "def get_loader(x, y, batch_size=32):\n",
        "    dataset = Dataset_(x, y)\n",
        "    data_loader = DataLoader(dataset=dataset,\n",
        "                            batch_size=batch_size,\n",
        "                            shuffle=True,\n",
        "                            pin_memory=True,\n",
        "                            drop_last=True,\n",
        "                            )\n",
        "    return data_loader"
      ]
    },
    {
      "cell_type": "markdown",
      "metadata": {
        "id": "6rzqEGOdHlst"
      },
      "source": [
        "### = = = = = Defining Architecture = = = = =\n",
        "In this section, we define the HAN architecture. We start with <i>AttentionBiGRU</i> module in order to define the sentence encoder (check Figure 3 in the handout). Then, we define the <i>TimeDistributed</i> module to allow us to forward our input (batch of document) as to the sentence encoder as <b>batch of sentences</b>, where each sentence in the document will be considered as a time step. This module also reshape the output to a batch of timesteps representations per document. Finally we define the <b>HAN</b> architecture using <i>TimeDistributed</i>, <i>AttentionWithContext</i> and <i>GRU</i>.\n",
        "\n",
        "#### <b>Task 2.2:</b>"
      ]
    },
    {
      "cell_type": "code",
      "execution_count": 7,
      "metadata": {
        "id": "AMj9j1_pHlst"
      },
      "outputs": [],
      "source": [
        "\n",
        "class AttentionBiGRU(nn.Module):\n",
        "    def __init__(self, input_shape, n_units, index_to_word, dropout=0):\n",
        "        super(AttentionBiGRU, self).__init__()\n",
        "        # fill the gap # vocab size\n",
        "        vocab_size = max(index_to_word.keys()) + 1\n",
        "        self.embedding = nn.Embedding(vocab_size, # fill the gap # vocab size\n",
        "                                      d, # dimensionality of embedding space\n",
        "                                      padding_idx=0)\n",
        "        self.dropout = nn.Dropout(drop_rate)\n",
        "        self.gru = nn.GRU(input_size=d,\n",
        "                          hidden_size=n_units,\n",
        "                          num_layers=1,\n",
        "                          bias=True,\n",
        "                          batch_first=True,\n",
        "                          bidirectional=True)\n",
        "        # fill the gap # the input shape for the attention layer\n",
        "        input_shape = 2 * n_units\n",
        "        self.attention = AttentionWithContext(input_shape, # fill the gap # the input shape for the attention layer\n",
        "                                              return_coefficients=True)\n",
        "\n",
        "\n",
        "    def forward(self, sent_ints):\n",
        "        sent_wv = self.embedding(sent_ints)\n",
        "        sent_wv_dr = self.dropout(sent_wv)\n",
        "        # fill the gap # RNN layer\n",
        "        sent_wa, _ = self.gru(sent_wv_dr)\n",
        "        # fill the gap # attentional vector for the sent\n",
        "        sent_att_vec, word_att_coeffs = self.attention(sent_wa)\n",
        "        sent_att_vec_dr = self.dropout(sent_att_vec)     \n",
        "        return sent_att_vec_dr, word_att_coeffs\n",
        "\n",
        "class TimeDistributed(nn.Module):\n",
        "    def __init__(self, module, batch_first=False):\n",
        "        super(TimeDistributed, self).__init__()\n",
        "        self.module = module\n",
        "        self.batch_first = batch_first\n",
        "\n",
        "    def forward(self, x):\n",
        "        if len(x.size()) <= 2:\n",
        "            return self.module(x)\n",
        "        # Squash samples and timesteps into a single axis\n",
        "        x_reshape = x.contiguous().view(-1, x.size(-1))  # (samples * timesteps, input_size) (448, 30)\n",
        "        sent_att_vec_dr, word_att_coeffs = self.module(x_reshape)\n",
        "        # We have to reshape the output\n",
        "        if self.batch_first:\n",
        "            sent_att_vec_dr = sent_att_vec_dr.contiguous().view(x.size(0), -1, sent_att_vec_dr.size(-1))  # (samples, timesteps, output_size)\n",
        "            word_att_coeffs = word_att_coeffs.contiguous().view(x.size(0), -1, word_att_coeffs.size(-1))  # (samples, timesteps, output_size)\n",
        "        else:\n",
        "            sent_att_vec_dr = sent_att_vec_dr.view(-1, x.size(1), sent_att_vec_dr.size(-1))  # (timesteps, samples, output_size)\n",
        "            word_att_coeffs = word_att_coeffs.view(-1, x.size(1), word_att_coeffs.size(-1))  # (timesteps, samples, output_size)\n",
        "        return sent_att_vec_dr, word_att_coeffs      \n",
        "\n",
        "class HAN(nn.Module):\n",
        "    def __init__(self, input_shape, n_units, index_to_word, dropout=0):\n",
        "        super(HAN, self).__init__()\n",
        "        self.encoder = AttentionBiGRU(input_shape, n_units, index_to_word, dropout)\n",
        "        self.timeDistributed = TimeDistributed(self.encoder, True)\n",
        "        self.dropout = nn.Dropout(drop_rate)\n",
        "        # fill the gap # the input shape of GRU layer\n",
        "        input_shape = 2 * n_units\n",
        "        self.gru = nn.GRU(input_size= input_shape,\n",
        "                          hidden_size=n_units,\n",
        "                          num_layers=1,\n",
        "                          bias=True,\n",
        "                          batch_first=True,\n",
        "                          bidirectional=True)\n",
        "        self.attention = AttentionWithContext(input_shape, # fill the gap # the input shape of between-sentence attention layer\n",
        "                                              return_coefficients=True)\n",
        "        self.lin_out = nn.Linear(input_shape,   # fill the gap # the input size of the last linear layer\n",
        "                                 1)\n",
        "        self.preds = nn.Sigmoid()\n",
        "\n",
        "    def forward(self, doc_ints):\n",
        "        # fill the gap # get sentence representation\n",
        "        sent_att_vecs_dr, word_att_coeffs = self.timeDistributed(doc_ints)\n",
        "        doc_sa, _ = self.gru(sent_att_vecs_dr)\n",
        "        doc_att_vec, sent_att_coeffs = self.attention(doc_sa)\n",
        "        doc_att_vec_dr = self.dropout(doc_att_vec)\n",
        "        doc_att_vec_dr = self.lin_out(doc_att_vec_dr)\n",
        "        return self.preds(doc_att_vec_dr), word_att_coeffs, sent_att_coeffs\n"
      ]
    },
    {
      "cell_type": "markdown",
      "metadata": {
        "id": "sgreR5AcHlst"
      },
      "source": [
        "### = = = = = Training = = = = =\n",
        "In this section, we have two code cells. In the first one, we define our evaluation function to compute the training and validation accuracies. While in the second one, we define our model, loss and optimizer and train the model over <i>nb_epochs</i>.<br>\n",
        "<b>Bonus task:</b> use <a href=\"https://pytorch.org/tutorials/recipes/recipes/tensorboard_with_pytorch.html\" target=\"_blank\">tensorboard</a> to visualize the loss and the validation accuray during the training.\n",
        "\n",
        "#### <b>Task 2.3:</b>"
      ]
    },
    {
      "cell_type": "code",
      "execution_count": 8,
      "metadata": {
        "id": "ztF2Lkie-C25"
      },
      "outputs": [],
      "source": [
        "def evaluate_accuracy(data_loader, verbose=True):\n",
        "    model.eval()\n",
        "    total_loss = 0.0\n",
        "    ncorrect = ntotal = 0\n",
        "    with torch.no_grad():\n",
        "        for idx, data in enumerate(data_loader):\n",
        "            # inference \n",
        "            output = model(data[\"document\"].to(device))[0] \n",
        "            output = output[:, -1] # only last vector\n",
        "            # total number of examples\n",
        "            ntotal +=  output.shape[0]\n",
        "            # number of correct predictions \n",
        "            predictions = torch.round(output)\n",
        "            #fill me # number of correct prediction - hint: use torch.sum \n",
        "            ncorrect += torch.sum(predictions == data[\"label\"].to(device))\n",
        "        acc = ncorrect.item() / ntotal\n",
        "        if verbose:\n",
        "          print(\"validation accuracy: {:3.2f}\".format(acc*100))\n",
        "        return acc"
      ]
    },
    {
      "cell_type": "code",
      "execution_count": 35,
      "metadata": {
        "id": "RRYiKhZEEidb"
      },
      "outputs": [
        {
          "name": "stderr",
          "output_type": "stream",
          "text": [
            "Epoch 1: 100%|██████████| 390/390 [02:13<00:00,  2.93batch/s, accuracy=59.9, loss=0.656]\n"
          ]
        },
        {
          "name": "stdout",
          "output_type": "stream",
          "text": [
            "===> Epoch 1 Complete: Avg. Loss: 0.6562, Validation Accuracy: 68.13%\n",
            "Validation accuracy improved, saving model...\n",
            "\n"
          ]
        },
        {
          "name": "stderr",
          "output_type": "stream",
          "text": [
            "Epoch 2: 100%|██████████| 390/390 [02:24<00:00,  2.69batch/s, accuracy=71.2, loss=0.559]\n"
          ]
        },
        {
          "name": "stdout",
          "output_type": "stream",
          "text": [
            "===> Epoch 2 Complete: Avg. Loss: 0.5592, Validation Accuracy: 76.37%\n",
            "Validation accuracy improved, saving model...\n",
            "\n"
          ]
        },
        {
          "name": "stderr",
          "output_type": "stream",
          "text": [
            "Epoch 3: 100%|██████████| 390/390 [02:24<00:00,  2.70batch/s, accuracy=75.3, loss=0.505]\n"
          ]
        },
        {
          "name": "stdout",
          "output_type": "stream",
          "text": [
            "===> Epoch 3 Complete: Avg. Loss: 0.5055, Validation Accuracy: 78.63%\n",
            "Validation accuracy improved, saving model...\n",
            "\n"
          ]
        },
        {
          "name": "stderr",
          "output_type": "stream",
          "text": [
            "Epoch 4: 100%|██████████| 390/390 [02:25<00:00,  2.68batch/s, accuracy=78.5, loss=0.46] \n"
          ]
        },
        {
          "name": "stdout",
          "output_type": "stream",
          "text": [
            "===> Epoch 4 Complete: Avg. Loss: 0.4598, Validation Accuracy: 80.37%\n",
            "Validation accuracy improved, saving model...\n",
            "\n"
          ]
        },
        {
          "name": "stderr",
          "output_type": "stream",
          "text": [
            "Epoch 5: 100%|██████████| 390/390 [02:26<00:00,  2.66batch/s, accuracy=79.9, loss=0.43] \n"
          ]
        },
        {
          "name": "stdout",
          "output_type": "stream",
          "text": [
            "===> Epoch 5 Complete: Avg. Loss: 0.4298, Validation Accuracy: 81.65%\n",
            "Validation accuracy improved, saving model...\n",
            "\n"
          ]
        },
        {
          "name": "stderr",
          "output_type": "stream",
          "text": [
            "Epoch 6: 100%|██████████| 390/390 [02:13<00:00,  2.91batch/s, accuracy=81.5, loss=0.408]\n"
          ]
        },
        {
          "name": "stdout",
          "output_type": "stream",
          "text": [
            "===> Epoch 6 Complete: Avg. Loss: 0.4077, Validation Accuracy: 81.00%\n"
          ]
        },
        {
          "name": "stderr",
          "output_type": "stream",
          "text": [
            "Epoch 7: 100%|██████████| 390/390 [02:01<00:00,  3.21batch/s, accuracy=83.2, loss=0.378]\n"
          ]
        },
        {
          "name": "stdout",
          "output_type": "stream",
          "text": [
            "===> Epoch 7 Complete: Avg. Loss: 0.3784, Validation Accuracy: 83.05%\n",
            "Validation accuracy improved, saving model...\n",
            "\n"
          ]
        },
        {
          "name": "stderr",
          "output_type": "stream",
          "text": [
            "Epoch 8: 100%|██████████| 390/390 [02:14<00:00,  2.89batch/s, accuracy=84.3, loss=0.361]\n"
          ]
        },
        {
          "name": "stdout",
          "output_type": "stream",
          "text": [
            "===> Epoch 8 Complete: Avg. Loss: 0.3607, Validation Accuracy: 83.35%\n",
            "Validation accuracy improved, saving model...\n",
            "\n"
          ]
        },
        {
          "name": "stderr",
          "output_type": "stream",
          "text": [
            "Epoch 9: 100%|██████████| 390/390 [01:54<00:00,  3.40batch/s, accuracy=85, loss=0.347]  \n"
          ]
        },
        {
          "name": "stdout",
          "output_type": "stream",
          "text": [
            "===> Epoch 9 Complete: Avg. Loss: 0.3469, Validation Accuracy: 84.07%\n",
            "Validation accuracy improved, saving model...\n",
            "\n"
          ]
        },
        {
          "name": "stderr",
          "output_type": "stream",
          "text": [
            "Epoch 10: 100%|██████████| 390/390 [02:28<00:00,  2.62batch/s, accuracy=85.9, loss=0.33] \n"
          ]
        },
        {
          "name": "stdout",
          "output_type": "stream",
          "text": [
            "===> Epoch 10 Complete: Avg. Loss: 0.3299, Validation Accuracy: 84.09%\n",
            "Validation accuracy improved, saving model...\n",
            "\n"
          ]
        },
        {
          "name": "stderr",
          "output_type": "stream",
          "text": [
            "Epoch 11: 100%|██████████| 390/390 [02:14<00:00,  2.89batch/s, accuracy=86.6, loss=0.313]\n"
          ]
        },
        {
          "name": "stdout",
          "output_type": "stream",
          "text": [
            "===> Epoch 11 Complete: Avg. Loss: 0.3127, Validation Accuracy: 84.48%\n",
            "Validation accuracy improved, saving model...\n",
            "\n"
          ]
        },
        {
          "name": "stderr",
          "output_type": "stream",
          "text": [
            "Epoch 12: 100%|██████████| 390/390 [02:14<00:00,  2.90batch/s, accuracy=87.3, loss=0.3]  \n"
          ]
        },
        {
          "name": "stdout",
          "output_type": "stream",
          "text": [
            "===> Epoch 12 Complete: Avg. Loss: 0.3001, Validation Accuracy: 84.33%\n"
          ]
        },
        {
          "name": "stderr",
          "output_type": "stream",
          "text": [
            "Epoch 13: 100%|██████████| 390/390 [02:15<00:00,  2.89batch/s, accuracy=87.9, loss=0.29] \n"
          ]
        },
        {
          "name": "stdout",
          "output_type": "stream",
          "text": [
            "===> Epoch 13 Complete: Avg. Loss: 0.2897, Validation Accuracy: 84.72%\n",
            "Validation accuracy improved, saving model...\n",
            "\n"
          ]
        },
        {
          "name": "stderr",
          "output_type": "stream",
          "text": [
            "Epoch 14: 100%|██████████| 390/390 [02:10<00:00,  2.99batch/s, accuracy=88.6, loss=0.28] \n"
          ]
        },
        {
          "name": "stdout",
          "output_type": "stream",
          "text": [
            "===> Epoch 14 Complete: Avg. Loss: 0.2796, Validation Accuracy: 84.91%\n",
            "Validation accuracy improved, saving model...\n",
            "\n"
          ]
        },
        {
          "name": "stderr",
          "output_type": "stream",
          "text": [
            "Epoch 15: 100%|██████████| 390/390 [02:11<00:00,  2.98batch/s, accuracy=88.9, loss=0.269]\n"
          ]
        },
        {
          "name": "stdout",
          "output_type": "stream",
          "text": [
            "===> Epoch 15 Complete: Avg. Loss: 0.2691, Validation Accuracy: 84.93%\n",
            "Validation accuracy improved, saving model...\n",
            "\n",
            "Loading best checkpoint...\n",
            "done.\n"
          ]
        },
        {
          "name": "stderr",
          "output_type": "stream",
          "text": [
            "C:\\Users\\julie\\AppData\\Local\\Temp\\ipykernel_15524\\643789406.py:62: FutureWarning: You are using `torch.load` with `weights_only=False` (the current default value), which uses the default pickle module implicitly. It is possible to construct malicious pickle data which will execute arbitrary code during unpickling (See https://github.com/pytorch/pytorch/blob/main/SECURITY.md#untrusted-models for more details). In a future release, the default value for `weights_only` will be flipped to `True`. This limits the functions that could be executed during unpickling. Arbitrary objects will no longer be allowed to be loaded via this mode unless they are explicitly allowlisted by the user via `torch.serialization.add_safe_globals`. We recommend you start setting `weights_only=True` for any use case where you don't have full control of the loaded file. Please open an issue on GitHub for any issues related to this experimental feature.\n",
            "  model.load_state_dict(torch.load('./best_model.pt'))\n"
          ]
        }
      ],
      "source": [
        "from tqdm import tqdm\n",
        "\n",
        "model = HAN(input_size, n_units, index_to_word).to(device)\n",
        "model = model.double()\n",
        "lr = 0.001  # learning rate\n",
        "# fill the gap, use Binary cross entropy from torch.nn: https://pytorch.org/docs/stable/nn.html#loss-functions\n",
        "criterion = nn.BCELoss()\n",
        "optimizer = torch.optim.Adam(model.parameters(), lr=lr) #fill me\n",
        "\n",
        "def train(x_train=my_docs_array_train,\n",
        "          y_train=my_labels_array_train,\n",
        "          x_test=my_docs_array_test,\n",
        "          y_test=my_labels_array_test,\n",
        "          word_dict=index_to_word,\n",
        "          batch_size=batch_size):\n",
        "  \n",
        "    train_data = get_loader(x_train, y_train, batch_size)\n",
        "    test_data = get_loader(my_docs_array_test, my_labels_array_test, batch_size)\n",
        "\n",
        "    best_validation_acc = 0.0\n",
        "    p = 0 # patience\n",
        "\n",
        "    for epoch in range(1, nb_epochs + 1): \n",
        "        losses = []\n",
        "        accuracies = []\n",
        "        with tqdm(train_data, unit=\"batch\") as tepoch:\n",
        "            for idx, data in enumerate(tepoch):\n",
        "                tepoch.set_description(f\"Epoch {epoch}\")\n",
        "                model.train()\n",
        "                optimizer.zero_grad()\n",
        "                input = data['document'].to(device)\n",
        "                label = data['label'].to(device)\n",
        "                label = label.double()\n",
        "                output = model.forward(input)[0]\n",
        "                output = output[:, -1]\n",
        "                 # fill the gap # compute the loss\n",
        "                loss = criterion(output, label)\n",
        "                loss.backward()\n",
        "                torch.nn.utils.clip_grad_norm_(model.parameters(), 0.5) # prevent exploding gradient \n",
        "                optimizer.step()\n",
        "\n",
        "                losses.append(loss.item())\n",
        "                accuracy = torch.sum(torch.round(output) == label).item() / batch_size\n",
        "                accuracies.append(accuracy)\n",
        "                tepoch.set_postfix(loss=sum(losses)/len(losses), accuracy=100. * sum(accuracies)/len(accuracies))\n",
        "\n",
        "        # train_acc = evaluate_accuracy(train_data, False)\n",
        "        test_acc = evaluate_accuracy(test_data, False)\n",
        "        print(\"===> Epoch {} Complete: Avg. Loss: {:.4f}, Validation Accuracy: {:3.2f}%\"\n",
        "              .format(epoch, sum(losses)/len(losses), 100.*test_acc))\n",
        "        if test_acc >= best_validation_acc:\n",
        "            best_validation_acc = test_acc\n",
        "            print(\"Validation accuracy improved, saving model...\")\n",
        "            torch.save(model.state_dict(), './best_model.pt')\n",
        "            p = 0\n",
        "            print()\n",
        "        else:\n",
        "            p += 1\n",
        "            if p==my_patience:\n",
        "                print(\"Validation accuracy did not improve for {} epochs, stopping training...\".format(my_patience))\n",
        "    print(\"Loading best checkpoint...\")    \n",
        "    model.load_state_dict(torch.load('./best_model.pt'))\n",
        "    model.eval()\n",
        "    print('done.')\n",
        "\n",
        "train()"
      ]
    },
    {
      "cell_type": "markdown",
      "metadata": {
        "id": "Dvyr8B5QHlst"
      },
      "source": [
        "### = = = = = Extraction of Attention Coefficients = = = = =\n",
        "In this section, we will extract and display the attention coefficients on two levels: sentence level and word level. To do so, we will extract the corresponding weights from our model.\n",
        "#### <b>Task 3:</b>"
      ]
    },
    {
      "cell_type": "code",
      "execution_count": 9,
      "metadata": {
        "id": "UVr8cS4MHlst"
      },
      "outputs": [],
      "source": [
        "# select last review:\n",
        "my_review = my_docs_array_test[-1:,:,:]\n",
        " \n",
        "# convert integer review to text:\n",
        "index_to_word[1] = 'OOV'\n",
        "my_review_text = [[index_to_word[idx] for idx in sent if idx in index_to_word] for sent in my_review.tolist()[0]]"
      ]
    },
    {
      "cell_type": "markdown",
      "metadata": {
        "id": "wHDJ7JiqHlsu"
      },
      "source": [
        "###   &emsp;&emsp;  = = = = = Attention Over Sentences in the Document = = = = ="
      ]
    },
    {
      "cell_type": "code",
      "execution_count": 11,
      "metadata": {},
      "outputs": [
        {
          "name": "stderr",
          "output_type": "stream",
          "text": [
            "C:\\Users\\julie\\AppData\\Local\\Temp\\ipykernel_16260\\3054318386.py:2: FutureWarning: You are using `torch.load` with `weights_only=False` (the current default value), which uses the default pickle module implicitly. It is possible to construct malicious pickle data which will execute arbitrary code during unpickling (See https://github.com/pytorch/pytorch/blob/main/SECURITY.md#untrusted-models for more details). In a future release, the default value for `weights_only` will be flipped to `True`. This limits the functions that could be executed during unpickling. Arbitrary objects will no longer be allowed to be loaded via this mode unless they are explicitly allowlisted by the user via `torch.serialization.add_safe_globals`. We recommend you start setting `weights_only=True` for any use case where you don't have full control of the loaded file. Please open an issue on GitHub for any issues related to this experimental feature.\n",
            "  model.load_state_dict(torch.load('./best_model.pt'))\n"
          ]
        },
        {
          "data": {
            "text/plain": [
              "<All keys matched successfully>"
            ]
          },
          "execution_count": 11,
          "metadata": {},
          "output_type": "execute_result"
        }
      ],
      "source": [
        "model = HAN(input_size, n_units, index_to_word).to('cpu')\n",
        "model.load_state_dict(torch.load('./best_model.pt'))"
      ]
    },
    {
      "cell_type": "code",
      "execution_count": 12,
      "metadata": {
        "colab": {
          "base_uri": "https://localhost:8080/"
        },
        "id": "yooWg3kkHlsu",
        "outputId": "2421291a-c557-46a9-8f75-74c998053f74"
      },
      "outputs": [
        {
          "name": "stdout",
          "output_type": "stream",
          "text": [
            "16.99 There 's a sign on The Lost Highway that says : OOV SPOILERS OOV ( but you already knew that , did n't you ? )\n",
            "15.56 Since there 's a great deal of people that apparently did not get the point of this movie , I 'd like to contribute my interpretation of why the plot\n",
            "12.93 As others have pointed out , one single viewing of this movie is not sufficient .\n",
            "10.5 If you have the DVD of MD , you can OOV ' by looking at David Lynch 's 'Top 10 OOV to OOV MD ' ( but only upon second\n",
            "10.41 ; ) First of all , Mulholland Drive is downright brilliant .\n",
            "14.72 A masterpiece .\n",
            "18.89 This is the kind of movie that refuse to leave your head .\n"
          ]
        }
      ],
      "source": [
        " # fill the gap # get sentence attention coeffs by passing the review to the model - (you need to convert the inout torch tensor)\n",
        "sent_coeffs = model(torch.tensor(my_review).to(device))[2]\n",
        "sent_coeffs = sent_coeffs[0,:,:]\n",
        "\n",
        "for elt in zip(sent_coeffs[:,0].tolist(),[' '.join(elt) for elt in my_review_text]):\n",
        "    print(round(elt[0]*100,2),elt[1])"
      ]
    },
    {
      "cell_type": "markdown",
      "metadata": {
        "id": "rII-DNrKHlsu"
      },
      "source": [
        "### &emsp;&emsp; = = = = = Attention Over Words in Each Sentence = = = = ="
      ]
    },
    {
      "cell_type": "code",
      "execution_count": 13,
      "metadata": {
        "colab": {
          "base_uri": "https://localhost:8080/"
        },
        "id": "JyFjAga6Hlsu",
        "outputId": "d9640e73-a3a1-4745-b215-d55470036a3c"
      },
      "outputs": [
        {
          "name": "stdout",
          "output_type": "stream",
          "text": [
            "('There', 0.02009480632841587)\n",
            "(\"'s\", 0.02667182870209217)\n",
            "('a', 0.0323183573782444)\n",
            "('sign', 0.08617360889911652)\n",
            "('on', 0.04226544871926308)\n",
            "('The', 0.04265008866786957)\n",
            "('Lost', 0.06748300790786743)\n",
            "('Highway', 0.07384421676397324)\n",
            "('that', 0.03231155872344971)\n",
            "('says', 0.03672841936349869)\n",
            "(':', 0.03997623175382614)\n",
            "('OOV', 0.014080273918807507)\n",
            "('SPOILERS', 0.01628507860004902)\n",
            "('OOV', 0.017902927473187447)\n",
            "('(', 0.014868569560348988)\n",
            "('but', 0.017504939809441566)\n",
            "('you', 0.020787794142961502)\n",
            "('already', 0.040346983820199966)\n",
            "('knew', 0.022768309339880943)\n",
            "('that', 0.018090175464749336)\n",
            "(',', 0.02212909609079361)\n",
            "('did', 0.034200627356767654)\n",
            "(\"n't\", 0.03547627478837967)\n",
            "('you', 0.03596379607915878)\n",
            "('?', 0.05277794972062111)\n",
            "(')', 0.04051083326339722)\n",
            "= = = =\n",
            "('Since', 0.06632563471794128)\n",
            "('there', 0.045516401529312134)\n",
            "(\"'s\", 0.02012414112687111)\n",
            "('a', 0.020931269973516464)\n",
            "('great', 0.040821973234415054)\n",
            "('deal', 0.034475360065698624)\n",
            "('of', 0.026428429409861565)\n",
            "('people', 0.017905343323946)\n",
            "('that', 0.014444702304899693)\n",
            "('apparently', 0.018881656229496002)\n",
            "('did', 0.03071807511150837)\n",
            "('not', 0.014872504398226738)\n",
            "('get', 0.011025281623005867)\n",
            "('the', 0.014406885951757431)\n",
            "('point', 0.03350778669118881)\n",
            "('of', 0.011076340451836586)\n",
            "('this', 0.02009299211204052)\n",
            "('movie', 0.07485424727201462)\n",
            "(',', 0.017798040062189102)\n",
            "('I', 0.01810246706008911)\n",
            "(\"'d\", 0.025573136284947395)\n",
            "('like', 0.04543760046362877)\n",
            "('to', 0.08033273369073868)\n",
            "('contribute', 0.061460260301828384)\n",
            "('my', 0.03449128195643425)\n",
            "('interpretation', 0.0230500940233469)\n",
            "('of', 0.01835387758910656)\n",
            "('why', 0.030586356297135353)\n",
            "('the', 0.025603927671909332)\n",
            "('plot', 0.10280122607946396)\n",
            "= = = =\n",
            "('As', 0.02477012388408184)\n",
            "('others', 0.022201625630259514)\n",
            "('have', 0.01879648119211197)\n",
            "('pointed', 0.06419111788272858)\n",
            "('out', 0.02898145094513893)\n",
            "(',', 0.018159883096814156)\n",
            "('one', 0.05497132986783981)\n",
            "('single', 0.1605740338563919)\n",
            "('viewing', 0.043984588235616684)\n",
            "('of', 0.029522156342864037)\n",
            "('this', 0.03269127756357193)\n",
            "('movie', 0.060464054346084595)\n",
            "('is', 0.031879402697086334)\n",
            "('not', 0.04395609349012375)\n",
            "('sufficient', 0.08635812997817993)\n",
            "('.', 0.020345810800790787)\n",
            "= = = =\n",
            "('If', 0.061119597405195236)\n",
            "('you', 0.034025777131319046)\n",
            "('have', 0.025310317054390907)\n",
            "('the', 0.018924633041024208)\n",
            "('DVD', 0.019713575020432472)\n",
            "('of', 0.0206289142370224)\n",
            "('MD', 0.047252461314201355)\n",
            "(',', 0.01692494936287403)\n",
            "('you', 0.022237634286284447)\n",
            "('can', 0.016790365800261497)\n",
            "('OOV', 0.032337870448827744)\n",
            "(\"'\", 0.019543038681149483)\n",
            "('by', 0.022255588322877884)\n",
            "('looking', 0.05525355041027069)\n",
            "('at', 0.039740532636642456)\n",
            "('David', 0.04854484647512436)\n",
            "('Lynch', 0.028356404975056648)\n",
            "(\"'s\", 0.015413088724017143)\n",
            "(\"'Top\", 0.020028583705425262)\n",
            "('10', 0.019862260669469833)\n",
            "('OOV', 0.01121621485799551)\n",
            "('to', 0.01565144583582878)\n",
            "('OOV', 0.01734274812042713)\n",
            "('MD', 0.01908285543322563)\n",
            "(\"'\", 0.015743983909487724)\n",
            "('(', 0.012636100873351097)\n",
            "('but', 0.021417485550045967)\n",
            "('only', 0.04399409145116806)\n",
            "('upon', 0.16918012499809265)\n",
            "('second', 0.08947084099054337)\n",
            "= = = =\n",
            "(';', 0.01767759397625923)\n",
            "(')', 0.02186044119298458)\n",
            "('First', 0.02471652254462242)\n",
            "('of', 0.01965857297182083)\n",
            "('all', 0.020824814215302467)\n",
            "(',', 0.015309063717722893)\n",
            "('Mulholland', 0.02488553524017334)\n",
            "('Drive', 0.10588567703962326)\n",
            "('is', 0.04269680008292198)\n",
            "('downright', 0.14725080132484436)\n",
            "('brilliant', 0.15255044400691986)\n",
            "('.', 0.05505426600575447)\n",
            "= = = =\n",
            "('A', 0.0783868283033371)\n",
            "('masterpiece', 0.09577549993991852)\n",
            "('.', 0.048110462725162506)\n",
            "= = = =\n",
            "('This', 0.027072351425886154)\n",
            "('is', 0.03541494533419609)\n",
            "('the', 0.034529101103544235)\n",
            "('kind', 0.06982865184545517)\n",
            "('of', 0.023424046114087105)\n",
            "('movie', 0.04083725064992905)\n",
            "('that', 0.022876188158988953)\n",
            "('refuse', 0.07341808825731277)\n",
            "('to', 0.03314113989472389)\n",
            "('leave', 0.02542467787861824)\n",
            "('your', 0.030751848593354225)\n",
            "('head', 0.1640453189611435)\n",
            "('.', 0.028839847072958946)\n",
            "= = = =\n",
            "('sign', 0.08617360889911652)\n",
            "('Highway', 0.07384421676397324)\n",
            "('Lost', 0.06748300790786743)\n",
            "('?', 0.05277794972062111)\n",
            "('The', 0.04265008866786957)\n",
            "('on', 0.04226544871926308)\n",
            "(')', 0.04051083326339722)\n",
            "('already', 0.040346983820199966)\n",
            "(':', 0.03997623175382614)\n",
            "('says', 0.03672841936349869)\n",
            "('you', 0.03596379607915878)\n",
            "(\"n't\", 0.03547627478837967)\n",
            "('did', 0.034200627356767654)\n",
            "('a', 0.0323183573782444)\n",
            "('that', 0.03231155872344971)\n",
            "(\"'s\", 0.02667182870209217)\n",
            "('knew', 0.022768309339880943)\n",
            "(',', 0.02212909609079361)\n",
            "('you', 0.020787794142961502)\n",
            "('There', 0.02009480632841587)\n",
            "('that', 0.018090175464749336)\n",
            "('OOV', 0.017902927473187447)\n",
            "('but', 0.017504939809441566)\n",
            "('SPOILERS', 0.01628507860004902)\n",
            "('(', 0.014868569560348988)\n",
            "('OOV', 0.014080273918807507)\n",
            "= = = =\n",
            "('plot', 0.10280122607946396)\n",
            "('to', 0.08033273369073868)\n",
            "('movie', 0.07485424727201462)\n",
            "('Since', 0.06632563471794128)\n",
            "('contribute', 0.061460260301828384)\n",
            "('there', 0.045516401529312134)\n",
            "('like', 0.04543760046362877)\n",
            "('great', 0.040821973234415054)\n",
            "('my', 0.03449128195643425)\n",
            "('deal', 0.034475360065698624)\n",
            "('point', 0.03350778669118881)\n",
            "('did', 0.03071807511150837)\n",
            "('why', 0.030586356297135353)\n",
            "('of', 0.026428429409861565)\n",
            "('the', 0.025603927671909332)\n",
            "(\"'d\", 0.025573136284947395)\n",
            "('interpretation', 0.0230500940233469)\n",
            "('a', 0.020931269973516464)\n",
            "(\"'s\", 0.02012414112687111)\n",
            "('this', 0.02009299211204052)\n",
            "('apparently', 0.018881656229496002)\n",
            "('of', 0.01835387758910656)\n",
            "('I', 0.01810246706008911)\n",
            "('people', 0.017905343323946)\n",
            "(',', 0.017798040062189102)\n",
            "('not', 0.014872504398226738)\n",
            "('that', 0.014444702304899693)\n",
            "('the', 0.014406885951757431)\n",
            "('of', 0.011076340451836586)\n",
            "('get', 0.011025281623005867)\n",
            "= = = =\n",
            "('single', 0.1605740338563919)\n",
            "('sufficient', 0.08635812997817993)\n",
            "('pointed', 0.06419111788272858)\n",
            "('movie', 0.060464054346084595)\n",
            "('one', 0.05497132986783981)\n",
            "('viewing', 0.043984588235616684)\n",
            "('not', 0.04395609349012375)\n",
            "('this', 0.03269127756357193)\n",
            "('is', 0.031879402697086334)\n",
            "('of', 0.029522156342864037)\n",
            "('out', 0.02898145094513893)\n",
            "('As', 0.02477012388408184)\n",
            "('others', 0.022201625630259514)\n",
            "('.', 0.020345810800790787)\n",
            "('have', 0.01879648119211197)\n",
            "(',', 0.018159883096814156)\n",
            "= = = =\n",
            "('upon', 0.16918012499809265)\n",
            "('second', 0.08947084099054337)\n",
            "('If', 0.061119597405195236)\n",
            "('looking', 0.05525355041027069)\n",
            "('David', 0.04854484647512436)\n",
            "('MD', 0.047252461314201355)\n",
            "('only', 0.04399409145116806)\n",
            "('at', 0.039740532636642456)\n",
            "('you', 0.034025777131319046)\n",
            "('OOV', 0.032337870448827744)\n",
            "('Lynch', 0.028356404975056648)\n",
            "('have', 0.025310317054390907)\n",
            "('by', 0.022255588322877884)\n",
            "('you', 0.022237634286284447)\n",
            "('but', 0.021417485550045967)\n",
            "('of', 0.0206289142370224)\n",
            "(\"'Top\", 0.020028583705425262)\n",
            "('10', 0.019862260669469833)\n",
            "('DVD', 0.019713575020432472)\n",
            "(\"'\", 0.019543038681149483)\n",
            "('MD', 0.01908285543322563)\n",
            "('the', 0.018924633041024208)\n",
            "('OOV', 0.01734274812042713)\n",
            "(',', 0.01692494936287403)\n",
            "('can', 0.016790365800261497)\n",
            "(\"'\", 0.015743983909487724)\n",
            "('to', 0.01565144583582878)\n",
            "(\"'s\", 0.015413088724017143)\n",
            "('(', 0.012636100873351097)\n",
            "('OOV', 0.01121621485799551)\n",
            "= = = =\n",
            "('brilliant', 0.15255044400691986)\n",
            "('downright', 0.14725080132484436)\n",
            "('Drive', 0.10588567703962326)\n",
            "('.', 0.05505426600575447)\n",
            "('is', 0.04269680008292198)\n",
            "('Mulholland', 0.02488553524017334)\n",
            "('First', 0.02471652254462242)\n",
            "(')', 0.02186044119298458)\n",
            "('all', 0.020824814215302467)\n",
            "('of', 0.01965857297182083)\n",
            "(';', 0.01767759397625923)\n",
            "(',', 0.015309063717722893)\n",
            "= = = =\n",
            "('masterpiece', 0.09577549993991852)\n",
            "('A', 0.0783868283033371)\n",
            "('.', 0.048110462725162506)\n",
            "= = = =\n",
            "('head', 0.1640453189611435)\n",
            "('refuse', 0.07341808825731277)\n",
            "('kind', 0.06982865184545517)\n",
            "('movie', 0.04083725064992905)\n",
            "('is', 0.03541494533419609)\n",
            "('the', 0.034529101103544235)\n",
            "('to', 0.03314113989472389)\n",
            "('your', 0.030751848593354225)\n",
            "('.', 0.028839847072958946)\n",
            "('This', 0.027072351425886154)\n",
            "('leave', 0.02542467787861824)\n",
            "('of', 0.023424046114087105)\n",
            "('that', 0.022876188158988953)\n",
            "= = = =\n"
          ]
        }
      ],
      "source": [
        " # fill the gap # get words attention coeffs by passing the review to the model - (you need to convert the inout torch tensor)\n",
        "word_coeffs = model(torch.tensor(my_review).to(device))[1]\n",
        "\n",
        "word_coeffs_list = word_coeffs.reshape(7,30).tolist()\n",
        "\n",
        "# match text and coefficients:\n",
        "text_word_coeffs = [list(zip(words,word_coeffs_list[idx][:len(words)])) for idx,words in enumerate(my_review_text)]\n",
        "\n",
        "for sent in text_word_coeffs:\n",
        "    [print(elt) for elt in sent]\n",
        "    print('= = = =')\n",
        "\n",
        "# sort words by importance within each sentence:\n",
        "text_word_coeffs_sorted = [sorted(elt,key=operator.itemgetter(1),reverse=True) for elt in text_word_coeffs]\n",
        "\n",
        "for sent in text_word_coeffs_sorted:\n",
        "    [print(elt) for elt in sent]\n",
        "    print('= = = =')"
      ]
    },
    {
      "cell_type": "markdown",
      "metadata": {},
      "source": [
        "### Print of the attention weights on one document"
      ]
    },
    {
      "cell_type": "code",
      "execution_count": 26,
      "metadata": {},
      "outputs": [
        {
          "name": "stdout",
          "output_type": "stream",
          "text": [
            "Review:\n",
            "First , let me review the movie .\n",
            "This movie creeps me out , and I do n't even believe in aliens !\n",
            "However , the movie has its flaws .\n",
            "There are three acts to this movie .\n",
            "Act One is perfect .\n",
            "It sets up the movie , and really builds up the creep factor .\n",
            "I must say the score is great !\n"
          ]
        }
      ],
      "source": [
        "my_review = my_docs_array_test[-10:-9, :, :]\n",
        "text = [[index_to_word[idx] for idx in sent if idx in index_to_word] for sent in my_review.tolist()[0]]\n",
        "print(f'Review:')\n",
        "for sent in text:\n",
        "    print(' '.join(sent))"
      ]
    },
    {
      "cell_type": "markdown",
      "metadata": {},
      "source": [
        "This is quite a long review with multiple sentences."
      ]
    },
    {
      "cell_type": "code",
      "execution_count": 27,
      "metadata": {},
      "outputs": [
        {
          "name": "stdout",
          "output_type": "stream",
          "text": [
            "Probability of positive sentiment (evaluated by the model): 0.98\n"
          ]
        }
      ],
      "source": [
        "prob = model(torch.from_numpy(my_review).to(device))[0].item()\n",
        "print(f'Probability of positive sentiment (evaluated by the model): {prob:.2f}')"
      ]
    },
    {
      "cell_type": "code",
      "execution_count": 21,
      "metadata": {},
      "outputs": [
        {
          "name": "stdout",
          "output_type": "stream",
          "text": [
            "True label: positive\n"
          ]
        }
      ],
      "source": [
        "true_label = my_labels_array_test[-10:-9].item()\n",
        "true_label = 'positive' if true_label == 1 else 'negative'\n",
        "print(f'True label: {true_label}')"
      ]
    },
    {
      "cell_type": "code",
      "execution_count": 73,
      "metadata": {},
      "outputs": [
        {
          "data": {
            "image/png": "[encoded data removed]",
            "text/plain": [
              "<Figure size 1000x1000 with 2 Axes>"
            ]
          },
          "metadata": {},
          "output_type": "display_data"
        }
      ],
      "source": [
        "import matplotlib.pyplot as plt\n",
        "\n",
        "model.eval()\n",
        "\n",
        "my_review = my_docs_array_test[-10:-9, :, :]\n",
        "index_to_word[1] = \"OOV\"\n",
        "my_review_text = [\n",
        "    [index_to_word[idx] for idx in sent if idx in index_to_word]\n",
        "    for sent in my_review.tolist()[0]\n",
        "]\n",
        "\n",
        "sent_coeffs = model(torch.from_numpy(my_review).to(device))[2]\n",
        "sent_coeffs = sent_coeffs[0, :, :]\n",
        "text_sent_coeffs = [\n",
        "    [(sentence, score)]\n",
        "    for sentence, score in list(\n",
        "        zip(\n",
        "            [\" \".join(elt) for elt in my_review_text],\n",
        "            sent_coeffs[:, 0].tolist(),\n",
        "        )\n",
        "    )\n",
        "]\n",
        "\n",
        "\n",
        "word_coeffs = model(torch.from_numpy(my_review).to(device))[1]\n",
        "word_coeffs_list = word_coeffs.reshape(7, 30).tolist()\n",
        "text_word_coeffs = [\n",
        "    list(zip(words, word_coeffs_list[idx][: len(words)]))\n",
        "    for idx, words in enumerate(my_review_text)\n",
        "]\n",
        "\n",
        "\n",
        "def plot_score(ax, text_word_coeffs):\n",
        "    current_row = 0.8\n",
        "    max_score = max([score for sentence in text_word_coeffs for _, score in sentence])\n",
        "    min_score = min([score for sentence in text_word_coeffs for _, score in sentence])\n",
        "    for sentence in text_word_coeffs:\n",
        "        current_col = 0\n",
        "        height = 0\n",
        "        for word, score in sentence:\n",
        "            t = ax.text(current_col, current_row, word, size=20)\n",
        "            t.set_bbox(\n",
        "                dict(\n",
        "                    facecolor=\"red\",\n",
        "                    alpha=(score - min_score) / max_score * 0.6,\n",
        "                    edgecolor=\"red\",\n",
        "                    linewidth=0,\n",
        "                )\n",
        "            )\n",
        "            transf = ax.transData.inverted()\n",
        "            bb = t.get_window_extent(fig.canvas.get_renderer())\n",
        "            bb_datacoords = bb.transformed(transf)\n",
        "            current_col = bb_datacoords.x1 + 0.017\n",
        "            height = max(height, bb_datacoords.y1 - bb_datacoords.y0)\n",
        "        current_row -= height + 0.04\n",
        "    ax.axis(\"off\")\n",
        "\n",
        "\n",
        "fig, ax = plt.subplots(2, 1, figsize=(10, 10))\n",
        "plot_score(ax[0], text_word_coeffs)\n",
        "plot_score(ax[1], text_sent_coeffs)\n",
        "ax[0].set_title(\"Coefficient per word\", fontsize=40)\n",
        "ax[1].set_title(\"Coefficient per sentence\", fontsize=40)\n",
        "plt.show()"
      ]
    }
  ],
  "metadata": {
    "accelerator": "GPU",
    "colab": {
      "collapsed_sections": [],
      "provenance": []
    },
    "kernelspec": {
      "display_name": "venv",
      "language": "python",
      "name": "python3"
    },
    "language_info": {
      "codemirror_mode": {
        "name": "ipython",
        "version": 3
      },
      "file_extension": ".py",
      "mimetype": "text/x-python",
      "name": "python",
      "nbconvert_exporter": "python",
      "pygments_lexer": "ipython3",
      "version": "3.12.1"
    }
  },
  "nbformat": 4,
  "nbformat_minor": 0
}
